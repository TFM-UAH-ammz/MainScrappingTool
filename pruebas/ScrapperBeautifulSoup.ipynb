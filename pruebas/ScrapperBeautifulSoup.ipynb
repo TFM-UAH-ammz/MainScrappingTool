{
 "cells": [
  {
   "cell_type": "code",
   "execution_count": 1,
   "metadata": {},
   "outputs": [],
   "source": [
    "import requests\n",
    "from bs4 import BeautifulSoup\n",
    "req = requests.get('https://howlongtobeat.com/game?id=38019')\n",
    "soup = BeautifulSoup(req.text, \"lxml\")\n",
    "\n",
    "data = {}\n"
   ]
  },
  {
   "cell_type": "code",
   "execution_count": 2,
   "metadata": {},
   "outputs": [
    {
     "data": {
      "text/plain": [
       "{'name': 'The Legend of Zelda: Breath of the Wild',\n",
       " 'description': 'Forget everything you know about The Legend of Zelda games. Step into a world of discovery, exploration and adventure in The Legend of Zelda: Breath of the Wild, a boundary-breaking new game in the acclaimed series. Travel across fields, through forests and to mountain peaks as you discover what has become of the ruined kingdom of Hyrule in this st...Read Moreunning open-air adventure.',\n",
       " 'developer': 'Nintendo EP',\n",
       " 'publisher': 'Nintendo',\n",
       " 'playable_On': ['Nintendo Switch', ' Wii U'],\n",
       " 'genres': ['Third-Person', ' Action', ' Adventure', ' Open World']}"
      ]
     },
     "execution_count": 2,
     "metadata": {},
     "output_type": "execute_result"
    }
   ],
   "source": [
    "#----------------------basic Data\n",
    "data[\"name\"] = soup.find(\"div\", {\"class\": \"profile_header shadow_text\"}).get_text(strip=True)\n",
    "data[\"description\"] = soup.find_all(\"div\",{\"class\": \"in back_primary shadow_box\"})[2].find(\"p\").get_text(strip=True)\n",
    "data[\"developer\"] = soup.find_all(\"div\",{\"class\": \"in back_primary shadow_box\"})[2].find_all(\"div\", {\"class\":\"profile_info\"})[0].get_text(strip=True).strip(\"Developer:\")\n",
    "data[\"publisher\"] = soup.find_all(\"div\",{\"class\": \"in back_primary shadow_box\"})[2].find_all(\"div\", {\"class\":\"profile_info\"})[1].get_text(strip=True).strip(\"Publisher:\")\n",
    "data[\"playable_On\"] = soup.find_all(\"div\",{\"class\": \"in back_primary shadow_box\"})[2].find_all(\"div\", {\"class\":\"profile_info\"})[2].get_text(strip=True).strip(\"Playable On:\").split(\",\")\n",
    "data[\"genres\"] = soup.find_all(\"div\",{\"class\": \"in back_primary shadow_box\"})[2].find_all(\"div\", {\"class\":\"profile_info\"})[3].get_text(strip=True).strip(\"Genres:\").split(\",\")\n",
    "\n",
    "data\n",
    "\n"
   ]
  },
  {
   "cell_type": "code",
   "execution_count": 3,
   "metadata": {},
   "outputs": [
    {
     "data": {
      "text/plain": [
       "{'name': 'The Legend of Zelda: Breath of the Wild',\n",
       " 'description': 'Forget everything you know about The Legend of Zelda games. Step into a world of discovery, exploration and adventure in The Legend of Zelda: Breath of the Wild, a boundary-breaking new game in the acclaimed series. Travel across fields, through forests and to mountain peaks as you discover what has become of the ruined kingdom of Hyrule in this st...Read Moreunning open-air adventure.',\n",
       " 'developer': 'Nintendo EP',\n",
       " 'publisher': 'Nintendo',\n",
       " 'playable_On': ['Nintendo Switch', ' Wii U'],\n",
       " 'genres': ['Third-Person', ' Action', ' Adventure', ' Open World'],\n",
       " 'additionalContent': [{'name': \"The Champions' Ballad DLC\",\n",
       "   'data': ['141', '84%', '10h', '12h', '13h', '11h']},\n",
       "  {'name': 'The Master Trials DLC',\n",
       "   'data': ['80', '81%', '4h', '7h', '7h', '6h']}]}"
      ]
     },
     "execution_count": 3,
     "metadata": {},
     "output_type": "execute_result"
    }
   ],
   "source": [
    "#---------------------- Aditional content\n",
    "\n",
    "dummyArray = []\n",
    "for tbody in soup.find(\"div\", {\"class\": \"in scrollable back_primary shadow_box\"}).find_all(\"tbody\"):\n",
    "    td = tbody.find_all(\"td\")\n",
    "    tempArray = []\n",
    "    for element in td[1:]:\n",
    "        tempArray.append(element.get_text(strip=True))\n",
    "    dummyArray.append({\"name\":td[0].get_text(strip=True), \"data\":tempArray})\n",
    "\n",
    "data[\"additionalContent\"] = dummyArray\n",
    "data"
   ]
  },
  {
   "cell_type": "code",
   "execution_count": 13,
   "metadata": {},
   "outputs": [
    {
     "name": "stdout",
     "output_type": "stream",
     "text": [
      "Single-Player\n"
     ]
    },
    {
     "data": {
      "text/plain": [
       "{'name': 'The Legend of Zelda: Breath of the Wild',\n",
       " 'description': 'Forget everything you know about The Legend of Zelda games. Step into a world of discovery, exploration and adventure in The Legend of Zelda: Breath of the Wild, a boundary-breaking new game in the acclaimed series. Travel across fields, through forests and to mountain peaks as you discover what has become of the ruined kingdom of Hyrule in this st...Read Moreunning open-air adventure.',\n",
       " 'developer': 'Nintendo EP',\n",
       " 'publisher': 'Nintendo',\n",
       " 'playable_On': ['Nintendo Switch', ' Wii U'],\n",
       " 'genres': ['Third-Person', ' Action', ' Adventure', ' Open World'],\n",
       " 'additionalContent': [{'name': \"The Champions' Ballad DLC\",\n",
       "   'data': ['141', '84%', '10h', '12h', '13h', '11h']},\n",
       "  {'name': 'The Master Trials DLC',\n",
       "   'data': ['80', '81%', '4h', '7h', '7h', '6h']}],\n",
       " 'singlePlayer': {'Main Story': ['1.2K',\n",
       "   '49h 40m',\n",
       "   '50h',\n",
       "   '28h 19m',\n",
       "   '69h 55m'],\n",
       "  'Main + Extras': ['2.9K', '96h 56m', '90h', '52h 36m', '189h 14m'],\n",
       "  'Completionists': ['555', '187h 33m', '181h 19m', '117h 25m', '319h 43m'],\n",
       "  'All PlayStyles': ['4.7K', '95h 20m', '80h', '47h 14m', '271h 20m']},\n",
       " 'speedRun': {'Any%': ['7', '2h 47m 37s', '2h 15m', '59m 57s', '6h']},\n",
       " 'rating': 94,\n",
       " 'retirement': 1.68,\n",
       " 'platform': {'Emulated': ['86',\n",
       "   '38h 36m',\n",
       "   '86h 46m',\n",
       "   '168h 04m',\n",
       "   '6h 48m',\n",
       "   '300h'],\n",
       "  'Nintendo Switch': ['3.9K',\n",
       "   '50h 18m',\n",
       "   '97h 46m',\n",
       "   '188h 16m',\n",
       "   '7h 08m',\n",
       "   '455h'],\n",
       "  'Wii U': ['698', '47h 35m', '93h 46m', '185h 18m', '11h 35m', '400h']}}"
      ]
     },
     "execution_count": 13,
     "metadata": {},
     "output_type": "execute_result"
    }
   ],
   "source": [
    "#----------------------------Single player\n",
    "\n",
    "dummDict = {}\n",
    "item = soup.find_all(\"div\", {\"class\": \"in scrollable shadow_box back_primary\"})[0].find(\"td\").get_text(strip=True)\n",
    "print(item)\n",
    "for tbody in soup.find_all(\"div\", {\"class\": \"in scrollable shadow_box back_primary\"})[0].find_all(\"tbody\"):\n",
    "    td = tbody.find_all(\"td\")\n",
    "    tempArray = []\n",
    "    for element in td[1:]:\n",
    "        tempArray.append(element.get_text(strip=True))\n",
    "    dummDict[td[0].get_text(strip=True)] = tempArray\n",
    "data[\"singlePlayer\"] = dummDict\n",
    "data"
   ]
  },
  {
   "cell_type": "code",
   "execution_count": 14,
   "metadata": {},
   "outputs": [
    {
     "name": "stdout",
     "output_type": "stream",
     "text": [
      "Speedrun\n"
     ]
    },
    {
     "data": {
      "text/plain": [
       "{'name': 'The Legend of Zelda: Breath of the Wild',\n",
       " 'description': 'Forget everything you know about The Legend of Zelda games. Step into a world of discovery, exploration and adventure in The Legend of Zelda: Breath of the Wild, a boundary-breaking new game in the acclaimed series. Travel across fields, through forests and to mountain peaks as you discover what has become of the ruined kingdom of Hyrule in this st...Read Moreunning open-air adventure.',\n",
       " 'developer': 'Nintendo EP',\n",
       " 'publisher': 'Nintendo',\n",
       " 'playable_On': ['Nintendo Switch', ' Wii U'],\n",
       " 'genres': ['Third-Person', ' Action', ' Adventure', ' Open World'],\n",
       " 'additionalContent': [{'name': \"The Champions' Ballad DLC\",\n",
       "   'data': ['141', '84%', '10h', '12h', '13h', '11h']},\n",
       "  {'name': 'The Master Trials DLC',\n",
       "   'data': ['80', '81%', '4h', '7h', '7h', '6h']}],\n",
       " 'singlePlayer': {'Main Story': ['1.2K',\n",
       "   '49h 40m',\n",
       "   '50h',\n",
       "   '28h 19m',\n",
       "   '69h 55m'],\n",
       "  'Main + Extras': ['2.9K', '96h 56m', '90h', '52h 36m', '189h 14m'],\n",
       "  'Completionists': ['555', '187h 33m', '181h 19m', '117h 25m', '319h 43m'],\n",
       "  'All PlayStyles': ['4.7K', '95h 20m', '80h', '47h 14m', '271h 20m']},\n",
       " 'speedRun': {'Any%': ['7', '2h 47m 37s', '2h 15m', '59m 57s', '6h']},\n",
       " 'rating': 94,\n",
       " 'retirement': 1.68,\n",
       " 'platform': {'Emulated': ['86',\n",
       "   '38h 36m',\n",
       "   '86h 46m',\n",
       "   '168h 04m',\n",
       "   '6h 48m',\n",
       "   '300h'],\n",
       "  'Nintendo Switch': ['3.9K',\n",
       "   '50h 18m',\n",
       "   '97h 46m',\n",
       "   '188h 16m',\n",
       "   '7h 08m',\n",
       "   '455h'],\n",
       "  'Wii U': ['698', '47h 35m', '93h 46m', '185h 18m', '11h 35m', '400h']}}"
      ]
     },
     "execution_count": 14,
     "metadata": {},
     "output_type": "execute_result"
    }
   ],
   "source": [
    "#----------------------------SpeedRun\n",
    "\n",
    "dummDict = {}\n",
    "item = soup.find_all(\"div\", {\"class\": \"in scrollable shadow_box back_primary\"})[1].find(\"td\").get_text(strip=True)\n",
    "print(item)\n",
    "for tbody in soup.find_all(\"div\", {\"class\": \"in scrollable shadow_box back_primary\"})[1].find_all(\"tbody\"):\n",
    "    td = tbody.find_all(\"td\")\n",
    "    tempArray = []\n",
    "    for element in td[1:]:\n",
    "        tempArray.append(element.get_text(strip=True))\n",
    "    dummDict[td[0].get_text(strip=True)] = tempArray\n",
    "data[\"speedRun\"] = dummDict\n",
    "data"
   ]
  },
  {
   "cell_type": "code",
   "execution_count": 6,
   "metadata": {},
   "outputs": [
    {
     "data": {
      "text/plain": [
       "{'name': 'The Legend of Zelda: Breath of the Wild',\n",
       " 'description': 'Forget everything you know about The Legend of Zelda games. Step into a world of discovery, exploration and adventure in The Legend of Zelda: Breath of the Wild, a boundary-breaking new game in the acclaimed series. Travel across fields, through forests and to mountain peaks as you discover what has become of the ruined kingdom of Hyrule in this st...Read Moreunning open-air adventure.',\n",
       " 'developer': 'Nintendo EP',\n",
       " 'publisher': 'Nintendo',\n",
       " 'playable_On': ['Nintendo Switch', ' Wii U'],\n",
       " 'genres': ['Third-Person', ' Action', ' Adventure', ' Open World'],\n",
       " 'additionalContent': [{'name': \"The Champions' Ballad DLC\",\n",
       "   'data': ['141', '84%', '10h', '12h', '13h', '11h']},\n",
       "  {'name': 'The Master Trials DLC',\n",
       "   'data': ['80', '81%', '4h', '7h', '7h', '6h']}],\n",
       " 'singlePlayer': {'Main Story': ['1.2K',\n",
       "   '49h 40m',\n",
       "   '50h',\n",
       "   '28h 19m',\n",
       "   '69h 55m'],\n",
       "  'Main + Extras': ['2.9K', '96h 56m', '90h', '52h 36m', '189h 14m'],\n",
       "  'Completionists': ['555', '187h 33m', '181h 19m', '117h 25m', '319h 43m'],\n",
       "  'All PlayStyles': ['4.7K', '95h 20m', '80h', '47h 14m', '271h 20m']},\n",
       " 'speedRun': {'Any%': ['7', '2h 47m 37s', '2h 15m', '59m 57s', '6h']},\n",
       " 'rating': 94,\n",
       " 'retirement': 1.68}"
      ]
     },
     "execution_count": 6,
     "metadata": {},
     "output_type": "execute_result"
    }
   ],
   "source": [
    "#----------------------- Rating\n",
    "\n",
    "data[\"rating\"] = int(soup.find(\"h5\", {\"style\":\"margin-top: -67px;\"}).get_text(strip=True).strip(\"% Rating\"))\n",
    "\n",
    "data[\"retirement\"] = float(soup.find(\"h5\", {\"style\":\"margin-top: -86px;\"}).get_text(strip=True).strip(\"%Retirement\")[-4:])\n",
    "\n",
    "data\n"
   ]
  },
  {
   "cell_type": "code",
   "execution_count": 7,
   "metadata": {},
   "outputs": [
    {
     "data": {
      "text/plain": [
       "<div class=\"in shadow_box back_primary\"> <div class=\"scrollable\">\n",
       "<table class=\"game_main_table\">\n",
       "<thead>\n",
       "<tr>\n",
       "<td>Platform</td>\n",
       "<td class=\"center\" style=\"width: 50px;\">Polled</td>\n",
       "<td>Main</td>\n",
       "<td>Main +</td>\n",
       "<td>100%</td>\n",
       "<td>Fastest</td>\n",
       "<td>Longest</td>\n",
       "</tr>\n",
       "</thead>\n",
       "<tbody> <tr class=\"spreadsheet\">\n",
       "<td>Emulated </td>\n",
       "<td class=\"center time_100_text\">86</td>\n",
       "<td>38h 36m </td>\n",
       "<td>86h 46m </td>\n",
       "<td>168h 04m </td>\n",
       "<td>6h 48m </td>\n",
       "<td>300h </td>\n",
       "</tr> <tr class=\"spreadsheet\">\n",
       "<td>Nintendo Switch </td>\n",
       "<td class=\"center time_100_text\">3.9K</td>\n",
       "<td>50h 18m </td>\n",
       "<td>97h 46m </td>\n",
       "<td>188h 16m </td>\n",
       "<td>7h 08m </td>\n",
       "<td>455h </td>\n",
       "</tr> <tr class=\"spreadsheet\">\n",
       "<td>Wii U </td>\n",
       "<td class=\"center time_100_text\">698</td>\n",
       "<td>47h 35m </td>\n",
       "<td>93h 46m </td>\n",
       "<td>185h 18m </td>\n",
       "<td>11h 35m </td>\n",
       "<td>400h </td>\n",
       "</tr> </tbody>\n",
       "</table>\n",
       "<div class=\"mobile_show_block scrollable_hint\">Scroll for More ►</div>\n",
       "</div> <div class=\"global_padding back_form\"> <div style=\"padding: 5px 0;height: 26px;line-height:16px;vertical-align:middle;\">\n",
       "<div style=\"height: 16px;float:left;\">Emulated </div>\n",
       "<div style=\"height: 16px;width:60px;float:right;text-align:right;\"><strong>110</strong></div>\n",
       "<div style=\"height: 16px;width:60px;float:right;text-align:center;\">1.56%</div>\n",
       "<div style=\"height: 16px;margin: 0 0 0 20%;padding: 0 .5% 0 .5%; width:1.2387%;background-color: #a637de;color:#FFFFFF;\"></div>\n",
       "</div> <div style=\"padding: 5px 0;height: 26px;line-height:16px;vertical-align:middle;\">\n",
       "<div style=\"height: 16px;float:left;\">Nintendo Switch </div>\n",
       "<div style=\"height: 16px;width:60px;float:right;text-align:right;\"><strong>5.9K</strong></div>\n",
       "<div style=\"height: 16px;width:60px;float:right;text-align:center;\">83.53%</div>\n",
       "<div style=\"height: 16px;margin: 0 0 0 20%;padding: 0 .5% 0 .5%; width:66.2679%;background-color: #e3020e;color:#FFFFFF;\"></div>\n",
       "</div> <div style=\"padding: 5px 0;height: 26px;line-height:16px;vertical-align:middle;\">\n",
       "<div style=\"height: 16px;float:left;\">Wii U </div>\n",
       "<div style=\"height: 16px;width:60px;float:right;text-align:right;\"><strong>1.1K</strong></div>\n",
       "<div style=\"height: 16px;width:60px;float:right;text-align:center;\">14.9%</div>\n",
       "<div style=\"height: 16px;margin: 0 0 0 20%;padding: 0 .5% 0 .5%; width:11.8235%;background-color: #2ec1e0;color:#000000;\"></div>\n",
       "</div> <div style=\"text-align: right;border-top: 1px solid #e6e9ed;padding: 3px 5px 0 5px;\">\n",
       "Unique:\n",
       "<strong>3 </strong>\n",
       "Total:\n",
       "<strong>7K </strong>\n",
       "</div> </div> </div>"
      ]
     },
     "execution_count": 7,
     "metadata": {},
     "output_type": "execute_result"
    }
   ],
   "source": [
    "soup.find(\"div\", {\"class\": \"in shadow_box back_primary\"})"
   ]
  },
  {
   "cell_type": "code",
   "execution_count": 8,
   "metadata": {},
   "outputs": [
    {
     "data": {
      "text/plain": [
       "{'name': 'The Legend of Zelda: Breath of the Wild',\n",
       " 'description': 'Forget everything you know about The Legend of Zelda games. Step into a world of discovery, exploration and adventure in The Legend of Zelda: Breath of the Wild, a boundary-breaking new game in the acclaimed series. Travel across fields, through forests and to mountain peaks as you discover what has become of the ruined kingdom of Hyrule in this st...Read Moreunning open-air adventure.',\n",
       " 'developer': 'Nintendo EP',\n",
       " 'publisher': 'Nintendo',\n",
       " 'playable_On': ['Nintendo Switch', ' Wii U'],\n",
       " 'genres': ['Third-Person', ' Action', ' Adventure', ' Open World'],\n",
       " 'additionalContent': [{'name': \"The Champions' Ballad DLC\",\n",
       "   'data': ['141', '84%', '10h', '12h', '13h', '11h']},\n",
       "  {'name': 'The Master Trials DLC',\n",
       "   'data': ['80', '81%', '4h', '7h', '7h', '6h']}],\n",
       " 'singlePlayer': {'Main Story': ['1.2K',\n",
       "   '49h 40m',\n",
       "   '50h',\n",
       "   '28h 19m',\n",
       "   '69h 55m'],\n",
       "  'Main + Extras': ['2.9K', '96h 56m', '90h', '52h 36m', '189h 14m'],\n",
       "  'Completionists': ['555', '187h 33m', '181h 19m', '117h 25m', '319h 43m'],\n",
       "  'All PlayStyles': ['4.7K', '95h 20m', '80h', '47h 14m', '271h 20m']},\n",
       " 'speedRun': {'Any%': ['7', '2h 47m 37s', '2h 15m', '59m 57s', '6h']},\n",
       " 'rating': 94,\n",
       " 'retirement': 1.68,\n",
       " 'platform': {'Emulated': ['86',\n",
       "   '38h 36m',\n",
       "   '86h 46m',\n",
       "   '168h 04m',\n",
       "   '6h 48m',\n",
       "   '300h'],\n",
       "  'Nintendo Switch': ['3.9K',\n",
       "   '50h 18m',\n",
       "   '97h 46m',\n",
       "   '188h 16m',\n",
       "   '7h 08m',\n",
       "   '455h'],\n",
       "  'Wii U': ['698', '47h 35m', '93h 46m', '185h 18m', '11h 35m', '400h']}}"
      ]
     },
     "execution_count": 8,
     "metadata": {},
     "output_type": "execute_result"
    }
   ],
   "source": [
    "#---------------- Platform\n",
    "\n",
    "dummDict = {}\n",
    "for tbody in soup.find(\"div\", {\"class\": \"in shadow_box back_primary\"}).find_all(\"tr\")[1:]:\n",
    "    td = tbody.find_all(\"td\")\n",
    "    tempArray = []\n",
    "    for element in td[1:]:\n",
    "        tempArray.append(element.get_text(strip=True))\n",
    "    dummDict[td[0].get_text(strip=True)] = tempArray\n",
    "data[\"platform\"] = dummDict\n",
    "data"
   ]
  },
  {
   "cell_type": "code",
   "execution_count": null,
   "metadata": {},
   "outputs": [],
   "source": []
  }
 ],
 "metadata": {
  "kernelspec": {
   "display_name": "Python 3",
   "language": "python",
   "name": "python3"
  },
  "language_info": {
   "codemirror_mode": {
    "name": "ipython",
    "version": 3
   },
   "file_extension": ".py",
   "mimetype": "text/x-python",
   "name": "python",
   "nbconvert_exporter": "python",
   "pygments_lexer": "ipython3",
   "version": "3.7.5"
  }
 },
 "nbformat": 4,
 "nbformat_minor": 2
}
