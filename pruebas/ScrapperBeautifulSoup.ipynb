{
 "cells": [
  {
   "cell_type": "code",
   "execution_count": null,
   "metadata": {},
   "outputs": [],
   "source": [
    "import requests\n",
    "from bs4 import BeautifulSoup\n",
    "req = requests.get('https://howlongtobeat.com/game?id=38019')\n",
    "soup = BeautifulSoup(req.text, \"lxml\")\n",
    "\n",
    "data = {}\n"
   ]
  },
  {
   "cell_type": "code",
   "execution_count": null,
   "metadata": {},
   "outputs": [],
   "source": [
    "#----------------------basic Data\n",
    "data[\"name\"] = soup.find(\"div\", {\"class\": \"profile_header shadow_text\"}).get_text(strip=True)\n",
    "data[\"description\"] = soup.find_all(\"div\",{\"class\": \"in back_primary shadow_box\"})[2].find(\"p\").get_text(strip=True)\n",
    "data[\"developer\"] = soup.find_all(\"div\",{\"class\": \"in back_primary shadow_box\"})[2].find_all(\"div\", {\"class\":\"profile_info\"})[0].get_text(strip=True).strip(\"Developer:\")\n",
    "data[\"publisher\"] = soup.find_all(\"div\",{\"class\": \"in back_primary shadow_box\"})[2].find_all(\"div\", {\"class\":\"profile_info\"})[1].get_text(strip=True).strip(\"Publisher:\")\n",
    "data[\"playable_On\"] = soup.find_all(\"div\",{\"class\": \"in back_primary shadow_box\"})[2].find_all(\"div\", {\"class\":\"profile_info\"})[2].get_text(strip=True).strip(\"Playable On:\").split(\",\")\n",
    "data[\"genres\"] = soup.find_all(\"div\",{\"class\": \"in back_primary shadow_box\"})[2].find_all(\"div\", {\"class\":\"profile_info\"})[3].get_text(strip=True).strip(\"Genres:\").split(\",\")\n",
    "\n",
    "data\n",
    "\n"
   ]
  },
  {
   "cell_type": "code",
   "execution_count": null,
   "metadata": {},
   "outputs": [],
   "source": [
    "#---------------------- Aditional content\n",
    "\n",
    "dummyArray = []\n",
    "for tbody in soup.find(\"div\", {\"class\": \"in scrollable back_primary shadow_box\"}).find_all(\"tbody\"):\n",
    "    td = tbody.find_all(\"td\")\n",
    "    tempArray = []\n",
    "    for element in td[1:]:\n",
    "        tempArray.append(element.get_text(strip=True))\n",
    "    dummyArray.append({\"name\":td[0].get_text(strip=True), \"data\":tempArray})\n",
    "\n",
    "data[\"additionalContent\"] = dummyArray\n",
    "data"
   ]
  },
  {
   "cell_type": "code",
   "execution_count": null,
   "metadata": {},
   "outputs": [],
   "source": [
    "#----------------------------Single player\n",
    "\n",
    "dummDict = {}\n",
    "for tbody in soup.find_all(\"div\", {\"class\": \"in scrollable shadow_box back_primary\"})[0].find_all(\"tbody\"):\n",
    "    td = tbody.find_all(\"td\")\n",
    "    tempArray = []\n",
    "    for element in td[1:]:\n",
    "        tempArray.append(element.get_text(strip=True))\n",
    "    dummDict[td[0].get_text(strip=True)] = tempArray\n",
    "data[\"singlePlayer\"] = dummDict\n",
    "data"
   ]
  },
  {
   "cell_type": "code",
   "execution_count": null,
   "metadata": {},
   "outputs": [],
   "source": [
    "#----------------------------SpeedRun\n",
    "\n",
    "dummDict = {}\n",
    "for tbody in soup.find_all(\"div\", {\"class\": \"in scrollable shadow_box back_primary\"})[1].find_all(\"tbody\"):\n",
    "    td = tbody.find_all(\"td\")\n",
    "    tempArray = []\n",
    "    for element in td[1:]:\n",
    "        tempArray.append(element.get_text(strip=True))\n",
    "    dummDict[td[0].get_text(strip=True)] = tempArray\n",
    "data[\"speedRun\"] = dummDict\n",
    "data"
   ]
  },
  {
   "cell_type": "code",
   "execution_count": null,
   "metadata": {},
   "outputs": [],
   "source": [
    "#----------------------- Rating\n",
    "\n",
    "data[\"rating\"] = int(soup.find(\"h5\", {\"style\":\"margin-top: -67px;\"}).get_text(strip=True).strip(\"% Rating\"))\n",
    "\n",
    "data[\"retirement\"] = float(soup.find(\"h5\", {\"style\":\"margin-top: -86px;\"}).get_text(strip=True).strip(\"%Retirement\")[-4:])\n",
    "\n",
    "data\n"
   ]
  },
  {
   "cell_type": "code",
   "execution_count": null,
   "metadata": {},
   "outputs": [],
   "source": [
    "soup.find(\"div\", {\"class\": \"in shadow_box back_primary\"})"
   ]
  },
  {
   "cell_type": "code",
   "execution_count": null,
   "metadata": {},
   "outputs": [],
   "source": [
    "#---------------- Platform\n",
    "\n",
    "dummDict = {}\n",
    "for tbody in soup.find(\"div\", {\"class\": \"in shadow_box back_primary\"}).find_all(\"tr\")[1:]:\n",
    "    td = tbody.find_all(\"td\")\n",
    "    tempArray = []\n",
    "    for element in td[1:]:\n",
    "        tempArray.append(element.get_text(strip=True))\n",
    "    dummDict[td[0].get_text(strip=True)] = tempArray\n",
    "data[\"platform\"] = dummDict\n",
    "data"
   ]
  }
 ],
 "metadata": {
  "kernelspec": {
   "display_name": "Python 3",
   "language": "python",
   "name": "python3"
  },
  "language_info": {
   "codemirror_mode": {
    "name": "ipython",
    "version": 3
   },
   "file_extension": ".py",
   "mimetype": "text/x-python",
   "name": "python",
   "nbconvert_exporter": "python",
   "pygments_lexer": "ipython3",
   "version": "3.7.5"
  }
 },
 "nbformat": 4,
 "nbformat_minor": 2
}
