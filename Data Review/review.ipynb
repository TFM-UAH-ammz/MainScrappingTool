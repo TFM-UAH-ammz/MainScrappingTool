{
 "cells": [
  {
   "cell_type": "code",
   "execution_count": 1,
   "metadata": {},
   "outputs": [],
   "source": [
    "import pandas as pd\n",
    "import matplotlib.pyplot as plt\n",
    "import seaborn as sns"
   ]
  },
  {
   "cell_type": "code",
   "execution_count": 2,
   "metadata": {},
   "outputs": [],
   "source": [
    "data = pd.read_csv(\"../src/data_file.csv\", header = 0)"
   ]
  },
  {
   "cell_type": "code",
   "execution_count": 3,
   "metadata": {},
   "outputs": [
    {
     "data": {
      "text/plain": [
       "Index(['name', 'description', 'Playable On', 'Genres', 'NA', 'EU', 'JP',\n",
       "       'Additional Content', 'Single-Player', 'Speedrun', 'Retirement',\n",
       "       'Platform', 'Type', 'Main Game', 'Multi-Player', 'Rating', 'Platform N',\n",
       "       'Publishers', 'Developers'],\n",
       "      dtype='object')"
      ]
     },
     "execution_count": 3,
     "metadata": {},
     "output_type": "execute_result"
    }
   ],
   "source": [
    "data.columns"
   ]
  },
  {
   "cell_type": "code",
   "execution_count": 4,
   "metadata": {},
   "outputs": [
    {
     "data": {
      "text/html": [
       "<div>\n",
       "<style scoped>\n",
       "    .dataframe tbody tr th:only-of-type {\n",
       "        vertical-align: middle;\n",
       "    }\n",
       "\n",
       "    .dataframe tbody tr th {\n",
       "        vertical-align: top;\n",
       "    }\n",
       "\n",
       "    .dataframe thead th {\n",
       "        text-align: right;\n",
       "    }\n",
       "</style>\n",
       "<table border=\"1\" class=\"dataframe\">\n",
       "  <thead>\n",
       "    <tr style=\"text-align: right;\">\n",
       "      <th></th>\n",
       "      <th>name</th>\n",
       "      <th>description</th>\n",
       "      <th>Playable On</th>\n",
       "      <th>Genres</th>\n",
       "      <th>NA</th>\n",
       "      <th>EU</th>\n",
       "      <th>JP</th>\n",
       "      <th>Additional Content</th>\n",
       "      <th>Single-Player</th>\n",
       "      <th>Speedrun</th>\n",
       "      <th>Retirement</th>\n",
       "      <th>Platform</th>\n",
       "      <th>Type</th>\n",
       "      <th>Main Game</th>\n",
       "      <th>Multi-Player</th>\n",
       "      <th>Rating</th>\n",
       "      <th>Platform N</th>\n",
       "      <th>Publishers</th>\n",
       "      <th>Developers</th>\n",
       "    </tr>\n",
       "  </thead>\n",
       "  <tbody>\n",
       "    <tr>\n",
       "      <th>0</th>\n",
       "      <td>Bomberman: Panic Bomber</td>\n",
       "      <td>Bomberman's hunt for the Golden Bomber statue.</td>\n",
       "      <td>NaN</td>\n",
       "      <td>['Third-Person', 'Real-Time', 'Puzzle']</td>\n",
       "      <td>NaN</td>\n",
       "      <td>NaN</td>\n",
       "      <td>December 22, 1994</td>\n",
       "      <td>NaN</td>\n",
       "      <td>NaN</td>\n",
       "      <td>NaN</td>\n",
       "      <td>NaN</td>\n",
       "      <td>NaN</td>\n",
       "      <td>NaN</td>\n",
       "      <td>NaN</td>\n",
       "      <td>NaN</td>\n",
       "      <td>NaN</td>\n",
       "      <td>NaN</td>\n",
       "      <td>Hudson Soft</td>\n",
       "      <td>Hudson Soft</td>\n",
       "    </tr>\n",
       "    <tr>\n",
       "      <th>1</th>\n",
       "      <td>RIP (2014)</td>\n",
       "      <td>NaN</td>\n",
       "      <td>NaN</td>\n",
       "      <td>['First-Person', 'Shooter']</td>\n",
       "      <td>October 31, 2014</td>\n",
       "      <td>NaN</td>\n",
       "      <td>NaN</td>\n",
       "      <td>NaN</td>\n",
       "      <td>NaN</td>\n",
       "      <td>NaN</td>\n",
       "      <td>NaN</td>\n",
       "      <td>NaN</td>\n",
       "      <td>NaN</td>\n",
       "      <td>NaN</td>\n",
       "      <td>NaN</td>\n",
       "      <td>NaN</td>\n",
       "      <td>NaN</td>\n",
       "      <td>Axyos Games</td>\n",
       "      <td>Axyos Games</td>\n",
       "    </tr>\n",
       "    <tr>\n",
       "      <th>2</th>\n",
       "      <td>Mr. Postman</td>\n",
       "      <td>NaN</td>\n",
       "      <td>NaN</td>\n",
       "      <td>NaN</td>\n",
       "      <td>NaN</td>\n",
       "      <td>NaN</td>\n",
       "      <td>NaN</td>\n",
       "      <td>NaN</td>\n",
       "      <td>NaN</td>\n",
       "      <td>NaN</td>\n",
       "      <td>NaN</td>\n",
       "      <td>{'Not enough data.': ['', '', '', '', '', '']}</td>\n",
       "      <td>NaN</td>\n",
       "      <td>NaN</td>\n",
       "      <td>NaN</td>\n",
       "      <td>NaN</td>\n",
       "      <td>NaN</td>\n",
       "      <td>NaN</td>\n",
       "      <td>NaN</td>\n",
       "    </tr>\n",
       "    <tr>\n",
       "      <th>3</th>\n",
       "      <td>Capsule</td>\n",
       "      <td>Capsule is a single-player survival game playe...</td>\n",
       "      <td>['PC']</td>\n",
       "      <td>NaN</td>\n",
       "      <td>February 04, 2012</td>\n",
       "      <td>NaN</td>\n",
       "      <td>NaN</td>\n",
       "      <td>NaN</td>\n",
       "      <td>{'Main Story': ['4', '1h 41m', '1h 40m', '1h 3...</td>\n",
       "      <td>NaN</td>\n",
       "      <td>5.94</td>\n",
       "      <td>{'PC': ['10', '1h 41m', '3h', '2h 29m', '1h 22...</td>\n",
       "      <td>NaN</td>\n",
       "      <td>NaN</td>\n",
       "      <td>NaN</td>\n",
       "      <td>47.0</td>\n",
       "      <td>{'PC': '23'}</td>\n",
       "      <td>Finji</td>\n",
       "      <td>NaN</td>\n",
       "    </tr>\n",
       "    <tr>\n",
       "      <th>4</th>\n",
       "      <td>Spectrum 2000</td>\n",
       "      <td>NaN</td>\n",
       "      <td>NaN</td>\n",
       "      <td>['Scrolling', 'Shooter']</td>\n",
       "      <td>2000</td>\n",
       "      <td>NaN</td>\n",
       "      <td>NaN</td>\n",
       "      <td>NaN</td>\n",
       "      <td>{'Main + Extras': ['1', '28m', '28m', '28m', '...</td>\n",
       "      <td>NaN</td>\n",
       "      <td>NaN</td>\n",
       "      <td>{'Not enough data.': ['', '', '', '', '', '']}</td>\n",
       "      <td>NaN</td>\n",
       "      <td>NaN</td>\n",
       "      <td>NaN</td>\n",
       "      <td>NaN</td>\n",
       "      <td>NaN</td>\n",
       "      <td>NaN</td>\n",
       "      <td>NaN</td>\n",
       "    </tr>\n",
       "  </tbody>\n",
       "</table>\n",
       "</div>"
      ],
      "text/plain": [
       "                      name                                        description  \\\n",
       "0  Bomberman: Panic Bomber     Bomberman's hunt for the Golden Bomber statue.   \n",
       "1               RIP (2014)                                                NaN   \n",
       "2              Mr. Postman                                                NaN   \n",
       "3                  Capsule  Capsule is a single-player survival game playe...   \n",
       "4            Spectrum 2000                                                NaN   \n",
       "\n",
       "  Playable On                                   Genres                 NA  \\\n",
       "0         NaN  ['Third-Person', 'Real-Time', 'Puzzle']                NaN   \n",
       "1         NaN              ['First-Person', 'Shooter']   October 31, 2014   \n",
       "2         NaN                                      NaN                NaN   \n",
       "3      ['PC']                                      NaN  February 04, 2012   \n",
       "4         NaN                 ['Scrolling', 'Shooter']               2000   \n",
       "\n",
       "    EU                 JP Additional Content  \\\n",
       "0  NaN  December 22, 1994                NaN   \n",
       "1  NaN                NaN                NaN   \n",
       "2  NaN                NaN                NaN   \n",
       "3  NaN                NaN                NaN   \n",
       "4  NaN                NaN                NaN   \n",
       "\n",
       "                                       Single-Player Speedrun  Retirement  \\\n",
       "0                                                NaN      NaN         NaN   \n",
       "1                                                NaN      NaN         NaN   \n",
       "2                                                NaN      NaN         NaN   \n",
       "3  {'Main Story': ['4', '1h 41m', '1h 40m', '1h 3...      NaN        5.94   \n",
       "4  {'Main + Extras': ['1', '28m', '28m', '28m', '...      NaN         NaN   \n",
       "\n",
       "                                            Platform Type Main Game  \\\n",
       "0                                                NaN  NaN       NaN   \n",
       "1                                                NaN  NaN       NaN   \n",
       "2     {'Not enough data.': ['', '', '', '', '', '']}  NaN       NaN   \n",
       "3  {'PC': ['10', '1h 41m', '3h', '2h 29m', '1h 22...  NaN       NaN   \n",
       "4     {'Not enough data.': ['', '', '', '', '', '']}  NaN       NaN   \n",
       "\n",
       "  Multi-Player  Rating    Platform N   Publishers   Developers  \n",
       "0          NaN     NaN           NaN  Hudson Soft  Hudson Soft  \n",
       "1          NaN     NaN           NaN  Axyos Games  Axyos Games  \n",
       "2          NaN     NaN           NaN          NaN          NaN  \n",
       "3          NaN    47.0  {'PC': '23'}        Finji          NaN  \n",
       "4          NaN     NaN           NaN          NaN          NaN  "
      ]
     },
     "execution_count": 4,
     "metadata": {},
     "output_type": "execute_result"
    }
   ],
   "source": [
    "pd.set_option('display.max_columns', None)\n",
    "data.head()"
   ]
  },
  {
   "cell_type": "code",
   "execution_count": 5,
   "metadata": {},
   "outputs": [
    {
     "data": {
      "text/plain": [
       "109      [{'name': 'Duke Nukem 3D', 'data': ['98', '81%...\n",
       "128      [{'name': 'Magicka', 'data': ['266', '71%', '1...\n",
       "130      [{'name': 'World of Warcraft', 'data': ['77', ...\n",
       "174      [{'name': 'The Detail', 'data': ['21', '59%', ...\n",
       "175      [{'name': 'Among the Sleep', 'data': ['322', '...\n",
       "                               ...                        \n",
       "69985    [{'name': '3 out of 10', 'data': ['0', '70%', ...\n",
       "70006    [{'name': 'Doom Eternal', 'data': ['758', '87%...\n",
       "70007    [{'name': 'Doom Eternal', 'data': ['758', '87%...\n",
       "70095    [{'name': 'Apocalipsis', 'data': ['21', '55%',...\n",
       "70154    [{'name': '3 out of 10', 'data': ['0', '70%', ...\n",
       "Name: Main Game, Length: 1453, dtype: object"
      ]
     },
     "execution_count": 5,
     "metadata": {},
     "output_type": "execute_result"
    }
   ],
   "source": [
    "data[\"Main Game\"][data[\"Main Game\"].notna()]"
   ]
  },
  {
   "cell_type": "code",
   "execution_count": 7,
   "metadata": {},
   "outputs": [
    {
     "data": {
      "text/plain": [
       "25       {'Co-Op': ['1', '27h 21m', '27h 21m', '27h 21m...\n",
       "29       {'Co-Op': ['4', '12h 02m', '14h', '8h 30m', '1...\n",
       "34       {'Co-Op': ['7', '3h 26m', '3h 34m', '3h 08m', ...\n",
       "128       {'Co-Op': ['2', '3h', '3h', '2h 30m', '3h 30m']}\n",
       "129      {'Competitive': ['2', '2h 54m', '2h 54m', '2h ...\n",
       "                               ...                        \n",
       "69156       {'Competitive': ['1', '1h', '1h', '1h', '1h']}\n",
       "69174    {'Competitive': ['1', '6h 12m', '6h 12m', '6h ...\n",
       "69383    {'Co-Op': ['1', '1h 05m', '1h 05m', '1h 05m', ...\n",
       "69818       {'Competitive': ['1', '1h', '1h', '1h', '1h']}\n",
       "70101       {'Competitive': ['1', '2h', '2h', '2h', '2h']}\n",
       "Name: Multi-Player, Length: 1994, dtype: object"
      ]
     },
     "execution_count": 7,
     "metadata": {},
     "output_type": "execute_result"
    }
   ],
   "source": [
    "data[\"Multi-Player\"][data[\"Multi-Player\"].notna()]"
   ]
  }
 ],
 "metadata": {
  "kernelspec": {
   "display_name": "Python 3",
   "language": "python",
   "name": "python3"
  },
  "language_info": {
   "codemirror_mode": {
    "name": "ipython",
    "version": 3
   },
   "file_extension": ".py",
   "mimetype": "text/x-python",
   "name": "python",
   "nbconvert_exporter": "python",
   "pygments_lexer": "ipython3",
   "version": "3.8.3"
  }
 },
 "nbformat": 4,
 "nbformat_minor": 2
}
